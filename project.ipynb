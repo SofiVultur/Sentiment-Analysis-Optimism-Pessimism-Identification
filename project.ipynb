{
 "cells": [
  {
   "cell_type": "code",
   "execution_count": null,
   "metadata": {},
   "outputs": [],
   "source": [
    "#load the dataset\n",
    "import csv\n",
    "\n",
    "data = []\n",
    "labels = []\n",
    "\n",
    "file = open(\"IMDB Dataset.csv\", 'r', encoding='utf8')\n",
    "reader = csv.reader(file)\n",
    "\n",
    "for line in reader:\n",
    "    if line[1] == 'positive':\n",
    "        data.append(line[0])\n",
    "        labels.append('optimistic')\n",
    "    elif line[1] == 'negative':\n",
    "        data.append(line[0])\n",
    "        labels.append('pessimistic')\n",
    "    \n",
    "print(len(data), len(labels))"
   ]
  },
  {
   "cell_type": "code",
   "execution_count": null,
   "metadata": {},
   "outputs": [],
   "source": [
    "from bs4 import BeautifulSoup\n",
    "\n",
    "cleanData = []\n",
    "\n",
    "#remove html tags\n",
    "for text in data:\n",
    "    soup = BeautifulSoup(text, \"html.parser\")\n",
    "    cleanData.append(soup.get_text())\n",
    "\n",
    "#stopwords and punctuation should remain if using BERT\n"
   ]
  },
  {
   "cell_type": "code",
   "execution_count": null,
   "metadata": {},
   "outputs": [],
   "source": []
  }
 ],
 "metadata": {
  "kernelspec": {
   "display_name": "Python 3",
   "language": "python",
   "name": "python3"
  },
  "language_info": {
   "codemirror_mode": {
    "name": "ipython",
    "version": 3
   },
   "file_extension": ".py",
   "mimetype": "text/x-python",
   "name": "python",
   "nbconvert_exporter": "python",
   "pygments_lexer": "ipython3",
   "version": "3.10.11"
  },
  "orig_nbformat": 4
 },
 "nbformat": 4,
 "nbformat_minor": 2
}
