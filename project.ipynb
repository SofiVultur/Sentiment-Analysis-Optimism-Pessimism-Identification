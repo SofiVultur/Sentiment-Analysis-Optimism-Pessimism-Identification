{
 "cells": [
  {
   "cell_type": "code",
   "execution_count": null,
   "metadata": {},
   "outputs": [],
   "source": [
    "#external packages\n",
    "\n",
    "#! pip install BeautifulSoup\n",
    "#! pip install word2number\n",
    "#! pip install pyspellchecker\n",
    "#! pip install transformers"
   ]
  },
  {
   "cell_type": "code",
   "execution_count": null,
   "metadata": {},
   "outputs": [],
   "source": [
    "#load the dataset\n",
    "import csv\n",
    "\n",
    "data = []\n",
    "labels = []\n",
    "\n",
    "file = open(\"IMDB Dataset.csv\", 'r', encoding='utf8')\n",
    "reader = csv.reader(file)\n",
    "\n",
    "for line in reader:\n",
    "    if line[1] == 'positive':\n",
    "        data.append(line[0])\n",
    "        labels.append('optimistic')\n",
    "    elif line[1] == 'negative':\n",
    "        data.append(line[0])\n",
    "        labels.append('pessimistic')"
   ]
  },
  {
   "cell_type": "code",
   "execution_count": null,
   "metadata": {},
   "outputs": [],
   "source": [
    "# preprocessing\n",
    "\n",
    "from bs4 import BeautifulSoup\n",
    "from word2number import w2n\n",
    "from spellchecker import SpellChecker\n",
    "import re\n",
    "\n",
    "def remove_numbers(text):\n",
    "    def is_written_number(word):\n",
    "        try:\n",
    "            w2n.word_to_num(word)\n",
    "            return True\n",
    "        except ValueError:\n",
    "            return False\n",
    "\n",
    "    # Remove numerical digits\n",
    "    cleaned_text = re.sub(r'\\d+', '', text)\n",
    "    # Remove written numbers\n",
    "    cleaned_text = re.sub(r'\\b([a-zA-Z]+(-[a-zA-Z]+)?)\\b', lambda x: '' if is_written_number(x.group()) else x.group(), cleaned_text)\n",
    "    \n",
    "    return cleaned_text\n",
    "\n",
    "# does not work perfectly because of punctuation, splitting is done by ' '\n",
    "def fix_spelling(text):\n",
    "    spell = SpellChecker()\n",
    "    return ' '.join([spell.correction(word) if spell.correction(word) != None else word for word in text.split()])\n",
    "\n",
    "def condense_spaces(text):\n",
    "    return re.sub(r'\\s+', ' ', text)\n",
    "\n",
    "clean_data = []\n",
    "cnt = 0\n",
    "for text in data:\n",
    "    #remove html tags\n",
    "    soup = BeautifulSoup(text, \"html.parser\")\n",
    "    processed_text = soup.get_text()\n",
    "\n",
    "    #remove numbers\n",
    "    processed_text = remove_numbers(processed_text) \n",
    "\n",
    "    #remove sequences of spaces\n",
    "    processed_text = condense_spaces(processed_text)\n",
    "\n",
    "    #lowercase\n",
    "    processed_text = processed_text.lower()\n",
    "\n",
    "    #fix spelling issues\n",
    "    #fixed_spelling = fix_spelling(lowercase_text)\n",
    "\n",
    "    clean_data.append(processed_text)\n",
    "    print(cnt)\n",
    "    cnt += 1"
   ]
  },
  {
   "cell_type": "code",
   "execution_count": null,
   "metadata": {},
   "outputs": [],
   "source": [
    "# tokenization\n",
    "from transformers import BertTokenizer\n",
    "\n",
    "tokenized_data = []\n",
    "tokenizer = BertTokenizer.from_pretrained(\"bert-large-uncased\")\n",
    "\n",
    "for data in clean_data:\n",
    "    tokenized_data.append(tokenizer.tokenize(data))\n",
    " \n",
    "print(len(tokenized_data), len(labels))"
   ]
  }
 ],
 "metadata": {
  "kernelspec": {
   "display_name": "Python 3",
   "language": "python",
   "name": "python3"
  },
  "language_info": {
   "codemirror_mode": {
    "name": "ipython",
    "version": 3
   },
   "file_extension": ".py",
   "mimetype": "text/x-python",
   "name": "python",
   "nbconvert_exporter": "python",
   "pygments_lexer": "ipython3",
   "version": "3.10.11"
  },
  "orig_nbformat": 4
 },
 "nbformat": 4,
 "nbformat_minor": 2
}
